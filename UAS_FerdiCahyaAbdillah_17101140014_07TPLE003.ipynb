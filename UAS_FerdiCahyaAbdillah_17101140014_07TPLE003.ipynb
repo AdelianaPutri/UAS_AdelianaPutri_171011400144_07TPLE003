{
  "nbformat": 4,
  "nbformat_minor": 0,
  "metadata": {
    "colab": {
      "name": "UAS_FerdiCahyaAbdillah_17101140014_07TPLE003.ipynb",
      "provenance": [],
      "authorship_tag": "ABX9TyNo+91QpU9jNDhvbl+efRAi",
      "include_colab_link": true
    },
    "kernelspec": {
      "name": "python3",
      "display_name": "Python 3"
    }
  },
  "cells": [
    {
      "cell_type": "markdown",
      "metadata": {
        "id": "view-in-github",
        "colab_type": "text"
      },
      "source": [
        "<a href=\"https://colab.research.google.com/github/AdelianaPutri/UAS_AdelianaPutri_171011400144_07TPLE003/blob/main/UAS_FerdiCahyaAbdillah_17101140014_07TPLE003.ipynb\" target=\"_parent\"><img src=\"https://colab.research.google.com/assets/colab-badge.svg\" alt=\"Open In Colab\"/></a>"
      ]
    },
    {
      "cell_type": "code",
      "metadata": {
        "colab": {
          "base_uri": "https://localhost:8080/"
        },
        "id": "KqADmbM_o6gN",
        "outputId": "95e70c87-05e6-44fc-dbba-31a074419579"
      },
      "source": [
        "from sklearn import tree\r\n",
        "clf = tree.DecisionTreeClassifier()\r\n",
        "\r\n",
        "x = [[180, 80, 40], [170, 70, 30], [160, 60, 20],[150, 50, 10]] #[tb, bb, umur]\r\n",
        "y = ['Pria', 'pria', 'wanita', 'wanita']\r\n",
        "clf = clf.fit(x, y)\r\n",
        "\r\n",
        "#Silahkan Masukkan data anda dibawah..\r\n",
        "prediction = clf.predict([[170, 70, 30]])\r\n",
        "\r\n",
        "print(prediction)"
      ],
      "execution_count": 14,
      "outputs": [
        {
          "output_type": "stream",
          "text": [
            "['wanita']\n"
          ],
          "name": "stdout"
        }
      ]
    }
  ]
}